{
 "cells": [
  {
   "cell_type": "markdown",
   "id": "6e225830",
   "metadata": {},
   "source": [
    "# Fortbildning session 2 - Fildelning och inspiration"
   ]
  },
  {
   "cell_type": "markdown",
   "id": "3abf4fe7",
   "metadata": {},
   "source": [
    "Här följer en sammanfattningslista på sessionens ämnen. En del av instruktionerna finns även på video, och klickbara länkar till klippen hittas i dokumentet. Klippen är främst ämnade som repetition mellan kurstillfällen, men kan också användas som en fristående kurs om man hellre lär sig självständigt."
   ]
  },
  {
   "cell_type": "markdown",
   "id": "3eb15bdf",
   "metadata": {},
   "source": [
    "## Inledning - Svar på frågor"
   ]
  },
  {
   "cell_type": "markdown",
   "id": "8f0ad01c",
   "metadata": {},
   "source": [
    "## 1 - Github och MyBinder [(video)](https://youtu.be/Mu8UqQhNc0M)"
   ]
  },
  {
   "cell_type": "markdown",
   "id": "8bb9f579",
   "metadata": {},
   "source": [
    "### 1.1 GitHub\n",
    "- Vad är GitHub, och vilka möjligheter finns?\n",
    "- Skapa användarkonto"
   ]
  },
  {
   "cell_type": "markdown",
   "id": "b5dfd10b",
   "metadata": {},
   "source": [
    "### 1.2 Fildelning\n",
    "- Push/pull repositories\n",
    "- GitHub Desktop"
   ]
  },
  {
   "cell_type": "markdown",
   "id": "e07b0917",
   "metadata": {},
   "source": [
    "### 1.3 MyBinder\n",
    "- Vad gör en Binder?\n",
    "- Hur skapar vi en Binder?"
   ]
  },
  {
   "cell_type": "markdown",
   "id": "cf6ba718",
   "metadata": {},
   "source": [
    "### 1.4 Anpassa din GitHub för en Binder\n",
    "\n",
    "- requirements.txt -filen\n",
    "- Sökvägar"
   ]
  },
  {
   "cell_type": "markdown",
   "id": "a9c30685",
   "metadata": {},
   "source": [
    "## 2. Genomgång av det tillgängliga materialet\n",
    "\n",
    "- Intro-dokument\n",
    "- Instruktionsvideor\n",
    "- Mer ingående instruktioner\n",
    "- Grupparbete"
   ]
  },
  {
   "cell_type": "markdown",
   "id": "7661a69f",
   "metadata": {},
   "source": [
    "## 3. Vad vill DU göra med open data?\n",
    "\n",
    "Nu har vi sett hur vi hittar och läser in data, och hur vi delar notebooks och datafiler vidare.\n",
    "\n",
    "Hur tror du att du skulle ha nytta av open data i undervisningen? Vi bollar idéer och ser på hur de kan förverkligas."
   ]
  }
 ],
 "metadata": {
  "kernelspec": {
   "display_name": "Python 3",
   "language": "python",
   "name": "python3"
  },
  "language_info": {
   "codemirror_mode": {
    "name": "ipython",
    "version": 3
   },
   "file_extension": ".py",
   "mimetype": "text/x-python",
   "name": "python",
   "nbconvert_exporter": "python",
   "pygments_lexer": "ipython3",
   "version": "3.8.8"
  }
 },
 "nbformat": 4,
 "nbformat_minor": 5
}
