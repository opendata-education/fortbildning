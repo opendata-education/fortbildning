{
 "cells": [
  {
   "cell_type": "markdown",
   "metadata": {},
   "source": [
    "# Matens utsläpp - Grupparbete i flera delar (1)"
   ]
  },
  {
   "cell_type": "markdown",
   "metadata": {},
   "source": [
    "### Innehåll\n",
    "* [Del 1: Transport av livsmedel](#osa1.1)\n",
    "* [Del 2: Utsläpp vid transport](#osa1.2)\n",
    "* [Del 3: Val av stad](#osa1.3)"
   ]
  },
  {
   "cell_type": "markdown",
   "metadata": {},
   "source": [
    "## Grupp 1\n",
    "\n",
    "\n",
    "I diskussionen kring klimatförändring och hushåll finns det en fråga som gång på gång dyker upp: Vilken inverkan har matens ursprung på de utsläpp som orsakas av vår näring? Hur mycket skiljer sig t.ex. utsläppen som orsakas av ett paket lokalproducerat nötkött och en mexikansk avocado? Härifrån börjar vår forskning!\n",
    "\n",
    "Er uppgift är att ta reda på hur matens transport fördelas mellan olika transporttyper. Hur mycket mat transporteras i medeltal över hav, på landsväg, på järnväg och genom luften. Data som krävs för detta hittas i filen \"food_miles_by_method.csv\". Slutligen bör ni lämna in en rapport, som innehåller de relevanta diagrammen och förklaringar till dem, samt svar på frågorna i slutet av den här uppgiftsbeskrivningen.\n",
    "\n",
    "\n",
    "### Del 1: Transport av livsmedel <a class=\"anchor\" id=\"osa1.1\"></a>"
   ]
  },
  {
   "cell_type": "code",
   "execution_count": 1,
   "metadata": {},
   "outputs": [],
   "source": [
    "# Vi börjar med att läsa in funktionspaketen som behövs för att skapa diagram.\n",
    "\n",
    "import pandas as pd\n",
    "import matplotlib.pyplot as plt\n",
    "import csv"
   ]
  },
  {
   "cell_type": "code",
   "execution_count": 2,
   "metadata": {},
   "outputs": [],
   "source": [
    "# Vi läser in datafilen.\n",
    "\n",
    "transport = pd.read_csv('https://raw.githubusercontent.com/opendata-education/Maantiede/main/materiaali/data/food_miles_by_method.csv')"
   ]
  },
  {
   "cell_type": "code",
   "execution_count": 3,
   "metadata": {
    "scrolled": true
   },
   "outputs": [
    {
     "data": {
      "text/html": [
       "<div>\n",
       "<style scoped>\n",
       "    .dataframe tbody tr th:only-of-type {\n",
       "        vertical-align: middle;\n",
       "    }\n",
       "\n",
       "    .dataframe tbody tr th {\n",
       "        vertical-align: top;\n",
       "    }\n",
       "\n",
       "    .dataframe thead th {\n",
       "        text-align: right;\n",
       "    }\n",
       "</style>\n",
       "<table border=\"1\" class=\"dataframe\">\n",
       "  <thead>\n",
       "    <tr style=\"text-align: right;\">\n",
       "      <th></th>\n",
       "      <th>Kulkuvayla</th>\n",
       "      <th>Vuosi</th>\n",
       "      <th>Osuus</th>\n",
       "      <th>Paastot</th>\n",
       "    </tr>\n",
       "  </thead>\n",
       "  <tbody>\n",
       "    <tr>\n",
       "      <th>0</th>\n",
       "      <td>Ilma</td>\n",
       "      <td>2010</td>\n",
       "      <td>0.16</td>\n",
       "      <td>1.13</td>\n",
       "    </tr>\n",
       "    <tr>\n",
       "      <th>1</th>\n",
       "      <td>Rautatie</td>\n",
       "      <td>2010</td>\n",
       "      <td>9.90</td>\n",
       "      <td>0.05</td>\n",
       "    </tr>\n",
       "    <tr>\n",
       "      <th>2</th>\n",
       "      <td>Maantie</td>\n",
       "      <td>2010</td>\n",
       "      <td>30.97</td>\n",
       "      <td>0.20</td>\n",
       "    </tr>\n",
       "    <tr>\n",
       "      <th>3</th>\n",
       "      <td>Vesi</td>\n",
       "      <td>2010</td>\n",
       "      <td>58.97</td>\n",
       "      <td>0.10</td>\n",
       "    </tr>\n",
       "  </tbody>\n",
       "</table>\n",
       "</div>"
      ],
      "text/plain": [
       "  Kulkuvayla  Vuosi  Osuus  Paastot\n",
       "0       Ilma   2010   0.16     1.13\n",
       "1   Rautatie   2010   9.90     0.05\n",
       "2    Maantie   2010  30.97     0.20\n",
       "3       Vesi   2010  58.97     0.10"
      ]
     },
     "execution_count": 3,
     "metadata": {},
     "output_type": "execute_result"
    }
   ],
   "source": [
    "# Vi tar en titt på datan. Den här tabellen är liten, så vi kan se hela innehållet med kommandot .head()\n",
    "\n",
    "transport.head()"
   ]
  },
  {
   "cell_type": "markdown",
   "metadata": {},
   "source": [
    "Vi stannar upp här och granskar tabellen. Den är på finska, men det är förhoppningsvis inte ett problem.\n",
    "\n",
    "Tabellens kolumner är\n",
    "- \"Kulkuväylä\" = Transportmetod - Luft/järnväg/landsväg/sjöfart\n",
    "- \"Vuosi\" = Årtal för undersökningen\n",
    "- \"Osuus\" = Andel av matens transport (Poore & Nemecek 2018)\n",
    "- \"Paastot\" = Transportmetodens medelutsläpp utan temperaturreglering (kgCO2eq per tonne-kilometer) (Poore & Nemecek 2018)\n",
    "\n",
    "Vilken information får ni ur tabellen? Vad innebär enheten koldioxidekvivalent? Vad menas med \"per tonne-kilometer\"? Vad innebär \"utan temperaturreglering\"? Varifrån kommer informationen?\n",
    "\n",
    "När dessa frågor är utredda kan vi börja skapa diagram för att visualisera tabellen."
   ]
  },
  {
   "cell_type": "code",
   "execution_count": 4,
   "metadata": {
    "scrolled": true
   },
   "outputs": [
    {
     "data": {
      "image/png": "[encoded data removed]",
      "text/plain": [
       "<Figure size 432x288 with 1 Axes>"
      ]
     },
     "metadata": {},
     "output_type": "display_data"
    }
   ],
   "source": [
    "metoder = transport['Kulkuvayla'] # Vi sparar listan med transportmetoderna som en variabel. Vi kallar den \"metoder\"\n",
    "andelar = transport['Osuus'] # Vi sparar listan med andelar som en annan variabel, \"andelar\"\n",
    "\n",
    "# Vi väljer diagramets färger. Ni kan ändra färgerna själva.\n",
    "# Listan måste innehålla 4 färger för att matcha de andra listorna som innehåller 4 värden.\n",
    "colors = ['yellowgreen', 'khaki', 'lightskyblue', 'lightcoral'] \n",
    "\n",
    "# Vi skapar ett cirkeldiagram med kommandot plt.pie(). Vi anger variabeln \"andelar\", så att värdena tas därifrån.\n",
    "patches, texts, pcts = plt.pie(andelar, colors=colors, autopct='%.1f%%', pctdistance=0.8, shadow=True, startangle=90)\n",
    "\n",
    "# Vi skapar en 'legend' - en referensruta. Vi anger variabeln \"metoder\", så att namnen tas därifrån.\n",
    "plt.legend(patches, metoder, bbox_to_anchor=(1,0.5), loc=\"center right\", bbox_transform=plt.gcf().transFigure)\n",
    "plt.subplots_adjust(left=0, bottom=0.1, right=1)\n",
    "plt.gca().axis(\"equal\")\n",
    "plt.setp(pcts, color='grey', fontweight='bold')\n",
    "plt.tight_layout()\n",
    "\n",
    "plt.title (\"Bild 1: Rubrik\") # Lägg till en passande rubrik. Vad beskriver diagrammet kort och tydligt?\n",
    "plt.show()"
   ]
  },
  {
   "cell_type": "markdown",
   "metadata": {},
   "source": [
    "### Del 2: Utsläpp vid transport <a class=\"anchor\" id=\"osa1.2\"></a>\n",
    "\n",
    "Vi ska också sapa ett diagram över de olika transportsättens utsläpp, så att vi kan jämföra dem bättre."
   ]
  },
  {
   "cell_type": "code",
   "execution_count": 5,
   "metadata": {},
   "outputs": [
    {
     "data": {
      "image/png": "[encoded data removed]",
      "text/plain": [
       "<Figure size 432x288 with 1 Axes>"
      ]
     },
     "metadata": {
      "needs_background": "light"
     },
     "output_type": "display_data"
    }
   ],
   "source": [
    "utslapp = transport['Paastot']\n",
    "# paastot.head() # ta bort #-tecknet för att se vad listan innehåller.\n",
    "\n",
    "plt.bar(metoder, utslapp, color='royalblue', alpha=0.7)\n",
    "# Vi har redan en lista med transportmetodernas namn från den förra cellen.\n",
    "\n",
    "plt.grid(color='#95a5a6', linestyle='--', linewidth=2, axis='y', alpha=0.7)\n",
    "\n",
    "# Namnge koordinataxlarna\n",
    "plt.xlabel('Namnge x-axel') \n",
    "plt.ylabel('Namnge y-axel (+enhet)')\n",
    "\n",
    "# Ange en passande, beskrivande rubrik.\n",
    "plt.title(' Bild 2, ange titel') \n",
    "plt.show()"
   ]
  },
  {
   "cell_type": "markdown",
   "metadata": {},
   "source": [
    "Vad berättar de diagram som ni har skapat? Hurudana tankar väcker de? I vilka situationer lönar sig de olika transportsätten? I vilka situationer är de inte lönsamma? Borde man överge någon av transportformerna, eller har alla sin plats?"
   ]
  },
  {
   "cell_type": "markdown",
   "metadata": {},
   "source": [
    "### Del 3: Val av stad <a class=\"anchor\" id=\"osa1.3\"></a>"
   ]
  },
  {
   "cell_type": "markdown",
   "metadata": {},
   "source": [
    "Välj, inom er grupp, tre städer spridda över Världen, och bestäm deras avstånd till Helsingfors (eller närmsta stad där ni befinner er)."
   ]
  },
  {
   "cell_type": "code",
   "execution_count": 6,
   "metadata": {},
   "outputs": [
    {
     "data": {
      "text/html": [
       "<div>\n",
       "<style scoped>\n",
       "    .dataframe tbody tr th:only-of-type {\n",
       "        vertical-align: middle;\n",
       "    }\n",
       "\n",
       "    .dataframe tbody tr th {\n",
       "        vertical-align: top;\n",
       "    }\n",
       "\n",
       "    .dataframe thead th {\n",
       "        text-align: right;\n",
       "    }\n",
       "</style>\n",
       "<table border=\"1\" class=\"dataframe\">\n",
       "  <thead>\n",
       "    <tr style=\"text-align: right;\">\n",
       "      <th></th>\n",
       "      <th>Stad</th>\n",
       "      <th>Avstånd till Helsingfors (+enhet)</th>\n",
       "    </tr>\n",
       "  </thead>\n",
       "  <tbody>\n",
       "    <tr>\n",
       "      <th>0</th>\n",
       "      <td>Stad 1</td>\n",
       "      <td>Avstånd 1</td>\n",
       "    </tr>\n",
       "    <tr>\n",
       "      <th>1</th>\n",
       "      <td>Stad 2</td>\n",
       "      <td>Avstånd 2</td>\n",
       "    </tr>\n",
       "    <tr>\n",
       "      <th>2</th>\n",
       "      <td>Stad 3</td>\n",
       "      <td>Avstånd 3</td>\n",
       "    </tr>\n",
       "  </tbody>\n",
       "</table>\n",
       "</div>"
      ],
      "text/plain": [
       "     Stad Avstånd till Helsingfors (+enhet)\n",
       "0  Stad 1                         Avstånd 1\n",
       "1  Stad 2                         Avstånd 2\n",
       "2  Stad 3                         Avstånd 3"
      ]
     },
     "metadata": {},
     "output_type": "display_data"
    }
   ],
   "source": [
    "# I denna cell anger vi information för att skapa en tabell.\n",
    "# Ersätt \"stad 1\" med er första utvalda stad och så vidare, tills ni har fyllt tabellen.\n",
    "# Ta reda på avstånden och fyll i dem. Kom ihåg att ange enhet för avståndet.\n",
    "\n",
    "# Tabellens värden finns hädanefter som variabeln \"info1\".\n",
    "info1 = {'Stad' : ['Stad 1', 'Stad 2', 'Stad 3', ],  \n",
    "        'Avstånd till Helsingfors (+enhet)' : ['Avstånd 1', 'Avstånd 2', 'Avstånd 3']}\n",
    "\n",
    "tabell1 = pd.DataFrame(info1)\n",
    "display(tabell1) # Vi skriver ut tabellen"
   ]
  },
  {
   "cell_type": "markdown",
   "metadata": {},
   "source": [
    "Fint! Nu har vi all grafik som hör till rapporten. Till sist behöver ni skriva rapporten. Den bör innehålla:\n",
    "\n",
    "1. Diagrammen, med tydliga förklaringar och bildtexter.\n",
    "1. Era observationer från graferna.\n",
    "1. Svar på frågorna nedan\n",
    "1. Kontaktuppgifter till er grupp i det fall att nästa grupp har följdfrågor.\n",
    "\n",
    "Det är viktigt att skriva en noggrann rapport, så att nästa grupp får tillräckligt med information om ert arbete, kort och koncist. Gå alltså noga igenom er rapport själva, och tänk på vilka frågor som kan dyka upp när följande grupp läser den. Var förutseende, och svara på de potentiella frågorna innan de hinner ställas.\n",
    "\n",
    "Frågor:\n",
    "1. Vad betyder koldioxidekvivalent och tonne-kilometer? Vad innebär \"utan temperaturreglering\"?\n",
    "1. Varifrån kommer tabellens information?\n",
    "1. Fundera på vad era diagram berättar. Hurudana tankar väcker de? När kan det vara lönsamt att använda de olika transportmetoderna, och när lönar det sig inte? Borde man upphöra att använda någon av metoderna, eller fyller de alla en uppgift?\n",
    "1. De siffror i tabellen som anger CO2-utsläppen vid transport är medeltal. Fundera på vilka faktorer som kan inverka. Vid vilka omständigheter kan talen vara större, vid vilka mindre? När är det väl befogat att använda medelvärden? När är det inte det?\n",
    "1. Varför valde ni just dessa tre städer för närmare undersökning?"
   ]
  },
  {
   "cell_type": "code",
   "execution_count": null,
   "metadata": {},
   "outputs": [],
   "source": []
  }
 ],
 "metadata": {
  "kernelspec": {
   "display_name": "Python 3",
   "language": "python",
   "name": "python3"
  },
  "language_info": {
   "codemirror_mode": {
    "name": "ipython",
    "version": 3
   },
   "file_extension": ".py",
   "mimetype": "text/x-python",
   "name": "python",
   "nbconvert_exporter": "python",
   "pygments_lexer": "ipython3",
   "version": "3.8.8"
  }
 },
 "nbformat": 4,
 "nbformat_minor": 4
}
