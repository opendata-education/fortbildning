{
 "cells": [
  {
   "cell_type": "markdown",
   "id": "545867f6",
   "metadata": {},
   "source": [
    "# Fortbildning session 3 - Problemlösning och projekt"
   ]
  },
  {
   "cell_type": "markdown",
   "id": "537885fd",
   "metadata": {},
   "source": [
    "## Mål:\n",
    "Deltagarna ska få bekanta sig med våra projektmaterial, och får enligt eget intresse testa sig fram med det vi gått igenom eller fundera på egna helheter.\n",
    "\n",
    "Hur gör vi det?"
   ]
  },
  {
   "cell_type": "markdown",
   "id": "abac75f4",
   "metadata": {},
   "source": [
    "## Inledning - Svar på frågor"
   ]
  },
  {
   "cell_type": "markdown",
   "id": "80d02ae1",
   "metadata": {},
   "source": [
    "## 1 - Problemlösning [(video)](https://youtu.be/oBo8-e-F0cw)"
   ]
  },
  {
   "cell_type": "markdown",
   "id": "a8801598",
   "metadata": {},
   "source": [
    "### 1.1 CSV-problem\n",
    "- Exempel från THL [(sotkanet)](https://sotkanet.fi/sotkanet/sv/haku?g=219)\n",
    "- Separator\n",
    "- Header\n",
    "- UTF-8"
   ]
  },
  {
   "cell_type": "markdown",
   "id": "52a3d60f",
   "metadata": {},
   "source": [
    "### 1.2 Errors\n",
    "- Okörda celler\n",
    "- Installera paket\n",
    "- Vanliga tecken/syntaxfel"
   ]
  },
  {
   "cell_type": "markdown",
   "id": "1ba27bb3",
   "metadata": {},
   "source": [
    "### 1.3 Kernel\n",
    "- Vad är en Kernel?\n",
    "- Kernel reset"
   ]
  },
  {
   "cell_type": "markdown",
   "id": "09a6686d",
   "metadata": {},
   "source": [
    "## 2. Vad vill DU göra med open data?\n",
    "\n",
    "Hur tror du att du skulle ha nytta av open data i undervisningen? Vi bollar idéer och ser på hur de kan förverkligas."
   ]
  }
 ],
 "metadata": {
  "kernelspec": {
   "display_name": "Python 3",
   "language": "python",
   "name": "python3"
  },
  "language_info": {
   "codemirror_mode": {
    "name": "ipython",
    "version": 3
   },
   "file_extension": ".py",
   "mimetype": "text/x-python",
   "name": "python",
   "nbconvert_exporter": "python",
   "pygments_lexer": "ipython3",
   "version": "3.8.8"
  }
 },
 "nbformat": 4,
 "nbformat_minor": 5
}
