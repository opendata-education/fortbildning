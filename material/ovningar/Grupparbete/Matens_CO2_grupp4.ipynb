{
 "cells": [
  {
   "cell_type": "markdown",
   "metadata": {},
   "source": [
    "# Matens utsläpp - Grupparbete i flera delar (4)"
   ]
  },
  {
   "cell_type": "markdown",
   "metadata": {},
   "source": [
    "## Grupp 4 <a class=\"anchor\" id=\"ryhma4\"></a>\n",
    "\n",
    "I diskussionen kring klimatförändring och hushåll finns det en fråga som gång på gång dyker upp: Vilken inverkan har matens ursprung på de utsläpp som orsakas av vår näring? Hur mycket skiljer sig t.ex. utsläppen som orsakas av ett paket lokalproducerat nötkött och en mexikansk avocado? Härifrån börjar vår forskning!\n",
    "\n",
    "Uppdraget för er grupp är att bekanta er med de andra gruppernas skrivna rapporter och konstruera en sammanhängande helhet av dem. De andra grupperna har besvarat givna frågor, och ni kan använda deras svar. Om ni hittar på nya frågor, som rapporterna inte besvarar, kan de lämnas som öppna frågor i er sammanfattning. Det är bra att ge några frågor att fundera på när ni presenterar.\n",
    "\n",
    "Er presentation behöver åtminstone innehålla följande saker:\n",
    "1. Data gällande transportmedel, deras utsläpp och andra faktorer som påverkar transportutsläppen. Vilka fördelar och nackdelar har de olika transportmedlen? I hur stor utsträckning används de olika transportmedlen?\n",
    "1. Förklara de olika givna enheterna och graferna.\n",
    "1. Jämför de två givna livsmedlen med varandra. Vilka tankar väcks här? Har det någon betydelse om produkten hämtas fjärran eller nära? Med vilket transportmedel hämtas just de här produkterna? Varför? Vad är det som orsakar utsläppen, när produkten dyker upp i vår närbutik? Har dessa produkter olika stora utsläpp? Var grundar sig skillnaderna?\n",
    "1. Är resultaten av beräkningarna logiska och välgrundade? Verkar rapportens slutresultat tillförlitliga?\n",
    "1. Om man vill minimera utsläppen som orsakas av ens matval, vad ska man tänka på, enligt den här rapporten?\n",
    "\n",
    "Presentera era slutresultat, funderingar och upptäckter på valfritt sätt."
   ]
  }
 ],
 "metadata": {
  "kernelspec": {
   "display_name": "Python 3",
   "language": "python",
   "name": "python3"
  },
  "language_info": {
   "codemirror_mode": {
    "name": "ipython",
    "version": 3
   },
   "file_extension": ".py",
   "mimetype": "text/x-python",
   "name": "python",
   "nbconvert_exporter": "python",
   "pygments_lexer": "ipython3",
   "version": "3.8.8"
  }
 },
 "nbformat": 4,
 "nbformat_minor": 4
}
